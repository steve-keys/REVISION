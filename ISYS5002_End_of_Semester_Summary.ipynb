{
  "nbformat": 4,
  "nbformat_minor": 0,
  "metadata": {
    "colab": {
      "name": "ISYS5002 End of Semester Summary.ipynb",
      "provenance": [],
      "include_colab_link": true
    },
    "kernelspec": {
      "name": "python3",
      "display_name": "Python 3"
    },
    "language_info": {
      "name": "python"
    }
  },
  "cells": [
    {
      "cell_type": "markdown",
      "metadata": {
        "id": "view-in-github",
        "colab_type": "text"
      },
      "source": [
        "<a href=\"https://colab.research.google.com/github/steve-keys/REVISION/blob/main/ISYS5002_End_of_Semester_Summary.ipynb\" target=\"_parent\"><img src=\"https://colab.research.google.com/assets/colab-badge.svg\" alt=\"Open In Colab\"/></a>"
      ]
    },
    {
      "cell_type": "markdown",
      "metadata": {
        "id": "q9qcbBIJsddZ"
      },
      "source": [
        "# Computational Thinking\n",
        "\n",
        "Computational thinking is a collection of problem-solving techniques that entails describing problems and solutions in a way that a computer can understand.\n",
        "\n",
        "* Problem Formation (Abstraction)\n",
        "* Solution Expression (Automation)\n",
        "* Execution and Evaluation (Analysis)\n",
        "\n",
        "## Problem Solving Methodology\n",
        "\n",
        "1. State the problem clearly\n",
        "2. Describe the input and output\n",
        "3. Work a simple example by hand\n",
        "4. Develop and algorithm (and convert to Python)\n",
        "5. Test solution with a variety of data\n",
        "\n",
        "*Note: Steps 1-3 and half of Step 4, a computer is not needed!*\n",
        "\n",
        "\n",
        "## Two things\n",
        "\n",
        "1. Store Values\n",
        "2. Perform Operations\n",
        "\n",
        "## Six Operations\n",
        "\n",
        "* Input/Receive Information\n",
        "* Output Information\n",
        "* Perform Arithmetic\n",
        "* Assign a value to a variable\n",
        "* Compare to variables\n",
        "* Repeat a group of actions\n",
        "\n",
        "## Develop algorithm (half of step 4)\n",
        "\n",
        "Break a problems down into simple actions in term of the **six operations**\n",
        "\n",
        "* Actions carry out simple tasks\n",
        "* Express actions as one of six operations \n",
        "* A set of actions is called an algorithm\n",
        "* Algorithms expressed as Pseudocode\n",
        "* Coding is translating an algorithm to a program\n",
        "\n",
        "## Implement Algorithm (other half of step 4)\n",
        "\n",
        "How to implement\n",
        "\n",
        "* Implement actions/steps one at a time\n",
        "* Initially use temporary variables\n",
        "* Create placeholders for difficult actions\n",
        "* If can't implement a action, use psuedo code as comment\n"
      ]
    },
    {
      "cell_type": "code",
      "metadata": {
        "id": "DbeOG77hsb4o"
      },
      "source": [
        ""
      ],
      "execution_count": null,
      "outputs": []
    },
    {
      "cell_type": "markdown",
      "metadata": {
        "id": "8Kg0pRLgshQu"
      },
      "source": [
        "# Python\n",
        "\n",
        "\n",
        "Combinng the building blocks of the Python language with computational thinking will allow you to solve programming problems in Python.\n",
        "\n",
        "This section show you some basic concepts to start you off.  To learn a language, you need to program in it for a while. We have used Python 3, don't use Python 2!\n",
        "\n",
        "Python enforces types (strongly typed), dynamically, implicitly typed (guesses type), case sensitive and object-oriented (i.e. everything is an object).\n",
        "\n",
        "\n",
        "## Getting Help\n",
        "\n",
        "* *help(object)*\n",
        "* *dir(object)*\n",
        "* Internet search\n",
        "* YouTube Tutorials\n",
        "* Websites eg. W3Schools\n",
        "\n",
        "## Useful functions\n",
        "* *type(object)*\n",
        "* *print(object)*\n",
        "* *len(object)*\n",
        "\n",
        "## Data Values\n",
        "\n",
        "Similar to how a Person is different form a dog, data valuse can be different.  We call this difference 'type'.  A data value can be:\n",
        "\n",
        "* whole number eg. 342\n",
        "* real number eg. 17.7\n",
        "* character eg. a\n",
        "* a word or phrase eg. 'Hello World'\n",
        "* logical value eg. True or False\n"
      ]
    },
    {
      "cell_type": "code",
      "metadata": {
        "id": "U81mY9Iusjyc",
        "outputId": "5954da25-490a-4b4a-e796-c0b98381931b",
        "colab": {
          "base_uri": "https://localhost:8080/"
        }
      },
      "source": [
        "type(5)"
      ],
      "execution_count": 1,
      "outputs": [
        {
          "output_type": "execute_result",
          "data": {
            "text/plain": [
              "int"
            ]
          },
          "metadata": {},
          "execution_count": 1
        }
      ]
    },
    {
      "cell_type": "code",
      "metadata": {
        "id": "-_nhnuTdAq-B",
        "outputId": "fd166b50-9fa6-4863-d594-e0ffde1a0d93",
        "colab": {
          "base_uri": "https://localhost:8080/"
        }
      },
      "source": [
        "type(5.5)"
      ],
      "execution_count": 2,
      "outputs": [
        {
          "output_type": "execute_result",
          "data": {
            "text/plain": [
              "float"
            ]
          },
          "metadata": {},
          "execution_count": 2
        }
      ]
    },
    {
      "cell_type": "code",
      "metadata": {
        "id": "DFz0cg65_cTh",
        "outputId": "8185af87-77c0-4544-d274-a5c0f44ad023",
        "colab": {
          "base_uri": "https://localhost:8080/"
        }
      },
      "source": [
        "type('a')"
      ],
      "execution_count": 3,
      "outputs": [
        {
          "output_type": "execute_result",
          "data": {
            "text/plain": [
              "str"
            ]
          },
          "metadata": {},
          "execution_count": 3
        }
      ]
    },
    {
      "cell_type": "code",
      "metadata": {
        "id": "8EOufIrJAgSR",
        "outputId": "b3bb3945-0aae-454d-ea9a-39cdb72b8f9d",
        "colab": {
          "base_uri": "https://localhost:8080/"
        }
      },
      "source": [
        "type('Hello World')"
      ],
      "execution_count": 4,
      "outputs": [
        {
          "output_type": "execute_result",
          "data": {
            "text/plain": [
              "str"
            ]
          },
          "metadata": {},
          "execution_count": 4
        }
      ]
    },
    {
      "cell_type": "code",
      "metadata": {
        "id": "9d6jipjRAlbq",
        "outputId": "da383400-b62d-4511-88b4-a5952113b8dd",
        "colab": {
          "base_uri": "https://localhost:8080/"
        }
      },
      "source": [
        "type(True)"
      ],
      "execution_count": 5,
      "outputs": [
        {
          "output_type": "execute_result",
          "data": {
            "text/plain": [
              "bool"
            ]
          },
          "metadata": {},
          "execution_count": 5
        }
      ]
    },
    {
      "cell_type": "markdown",
      "metadata": {
        "id": "KN_1rAqvYWPL"
      },
      "source": [
        "We can also have group data values into:\n",
        "* tuples (can't change values in tuple)\n",
        "* lists (can cange the contents of the list)\n",
        "* dict (dictonary, has a lookup key, and corresponding 'value') \n",
        "\n",
        "Tuples use '()', Lists use '[]' and dictionaries use '{}'"
      ]
    },
    {
      "cell_type": "code",
      "metadata": {
        "id": "PkLZW7CZAvJz",
        "outputId": "56496555-a9fc-4891-98ff-1a52eaf9ee15",
        "colab": {
          "base_uri": "https://localhost:8080/"
        }
      },
      "source": [
        "type([1,2,3])"
      ],
      "execution_count": 6,
      "outputs": [
        {
          "output_type": "execute_result",
          "data": {
            "text/plain": [
              "list"
            ]
          },
          "metadata": {},
          "execution_count": 6
        }
      ]
    },
    {
      "cell_type": "code",
      "metadata": {
        "id": "ke-DX4JrAytw",
        "outputId": "0efa4a03-8b36-4836-a851-e2a121ce56cd",
        "colab": {
          "base_uri": "https://localhost:8080/"
        }
      },
      "source": [
        "type((1,2,3))"
      ],
      "execution_count": 7,
      "outputs": [
        {
          "output_type": "execute_result",
          "data": {
            "text/plain": [
              "tuple"
            ]
          },
          "metadata": {},
          "execution_count": 7
        }
      ]
    },
    {
      "cell_type": "code",
      "metadata": {
        "id": "wbnv0h-5Y9pi",
        "outputId": "6c21824e-e507-402b-80ee-ed37f7156ba1",
        "colab": {
          "base_uri": "https://localhost:8080/"
        }
      },
      "source": [
        "type({'ID': 100, 'Name': 'Odin'})"
      ],
      "execution_count": 8,
      "outputs": [
        {
          "output_type": "execute_result",
          "data": {
            "text/plain": [
              "dict"
            ]
          },
          "metadata": {},
          "execution_count": 8
        }
      ]
    },
    {
      "cell_type": "markdown",
      "metadata": {
        "id": "5RH76NNtZZgd"
      },
      "source": [
        "List, tuples and dict have a length.  Knowing the length is important as often we want to process or perform a action on each element of the list, tuple or dict. "
      ]
    },
    {
      "cell_type": "code",
      "metadata": {
        "id": "8LkWXQfdZtXy"
      },
      "source": [
        "len([1,2,3])"
      ],
      "execution_count": null,
      "outputs": []
    },
    {
      "cell_type": "code",
      "metadata": {
        "id": "1XKemUKzZyre"
      },
      "source": [
        "len((1,2,3))"
      ],
      "execution_count": null,
      "outputs": []
    },
    {
      "cell_type": "code",
      "metadata": {
        "id": "TFYexPp5ZzAX"
      },
      "source": [
        "len({'ID': 100, 'Name': 'Odin'})"
      ],
      "execution_count": null,
      "outputs": []
    },
    {
      "cell_type": "markdown",
      "metadata": {
        "id": "vnDROiL7sAPD"
      },
      "source": [
        "We can sometimes coerce one type into another, for example, an int to a float."
      ]
    },
    {
      "cell_type": "code",
      "metadata": {
        "id": "klYvG_nxsTYI"
      },
      "source": [
        "float(5)"
      ],
      "execution_count": null,
      "outputs": []
    },
    {
      "cell_type": "markdown",
      "metadata": {
        "id": "Xs4YduS-sWlE"
      },
      "source": [
        "or a float into a int"
      ]
    },
    {
      "cell_type": "code",
      "metadata": {
        "id": "h9LEPFDNsZYB"
      },
      "source": [
        "int(5.7)"
      ],
      "execution_count": null,
      "outputs": []
    },
    {
      "cell_type": "code",
      "metadata": {
        "id": "-rhtMtkYseQd"
      },
      "source": [
        "# just for fun\n",
        "int(float(5))"
      ],
      "execution_count": null,
      "outputs": []
    },
    {
      "cell_type": "markdown",
      "metadata": {
        "id": "83Li3JRr_cdx"
      },
      "source": [
        "## Simple Calculator\n",
        "\n",
        "| Symbol    | Meaning/Operation |\n",
        "|-----------|-------------------|\n",
        "| +         | Addition          |\n",
        "| -         | Subtraciton       |\n",
        "| *         | Multiplication    |\n",
        "| /         | Divsion           |\n",
        "| //        | Integer Division (quotient)  |\n",
        "| %         | Moduls (reminder) |\n",
        "| **        | Power/Exponent    |\n",
        "| ()        | Group.            |\n",
        "\n",
        "Follows **BOMDAS**"
      ]
    },
    {
      "cell_type": "code",
      "metadata": {
        "id": "MmOE5TuAAkYT"
      },
      "source": [
        "3 + 5"
      ],
      "execution_count": null,
      "outputs": []
    },
    {
      "cell_type": "code",
      "metadata": {
        "id": "eCw8iJMFA7ov"
      },
      "source": [
        "3 + 5.5"
      ],
      "execution_count": null,
      "outputs": []
    },
    {
      "cell_type": "code",
      "metadata": {
        "id": "pwx92aZDA-Dn"
      },
      "source": [
        "2 * 3 / (2 + 1)"
      ],
      "execution_count": null,
      "outputs": []
    },
    {
      "cell_type": "code",
      "metadata": {
        "id": "DmjOkUS0DgSz"
      },
      "source": [
        "2**2"
      ],
      "execution_count": null,
      "outputs": []
    },
    {
      "cell_type": "code",
      "metadata": {
        "id": "tG_t9LqTD7md"
      },
      "source": [
        "4 / 3"
      ],
      "execution_count": null,
      "outputs": []
    },
    {
      "cell_type": "code",
      "metadata": {
        "id": "ngVksSubD-Mz"
      },
      "source": [
        "4 // 3 "
      ],
      "execution_count": null,
      "outputs": []
    },
    {
      "cell_type": "code",
      "metadata": {
        "id": "7clo_Kt-ECei"
      },
      "source": [
        "4 % 3"
      ],
      "execution_count": null,
      "outputs": []
    },
    {
      "cell_type": "markdown",
      "metadata": {
        "id": "toO4bhOgskaW"
      },
      "source": [
        "## Variables\n",
        "\n",
        "Variables are containers to store **data values**\n",
        "\n",
        "A variable is created when you first assign a value to it.\n",
        "\n",
        "Data type of variable based on its contents"
      ]
    },
    {
      "cell_type": "code",
      "metadata": {
        "id": "olyFqMY2B52Q"
      },
      "source": [
        "name = \"Odin\"\n",
        "print(name)\n",
        "print(type(name))\n",
        "type(name)"
      ],
      "execution_count": null,
      "outputs": []
    },
    {
      "cell_type": "code",
      "metadata": {
        "id": "s772M9OuCHv2",
        "outputId": "2cf703f8-7918-4832-df5a-8f9329985435",
        "colab": {
          "base_uri": "https://localhost:8080/"
        }
      },
      "source": [
        "x = 3\n",
        "y = 5\n",
        "slope = x / y\n",
        "print(slope)\n",
        "type(slope)"
      ],
      "execution_count": 9,
      "outputs": [
        {
          "output_type": "stream",
          "name": "stdout",
          "text": [
            "0.6\n"
          ]
        },
        {
          "output_type": "execute_result",
          "data": {
            "text/plain": [
              "float"
            ]
          },
          "metadata": {},
          "execution_count": 9
        }
      ]
    },
    {
      "cell_type": "code",
      "metadata": {
        "id": "TmEQEkdQFRLD"
      },
      "source": [
        "# Expressions have type \n",
        "type(x / y)"
      ],
      "execution_count": null,
      "outputs": []
    },
    {
      "cell_type": "code",
      "metadata": {
        "id": "A9DqB3biGruA",
        "outputId": "6be76150-e6e7-4265-b2fa-9ac0f4991673",
        "colab": {
          "base_uri": "https://localhost:8080/"
        }
      },
      "source": [
        "big_string = ''' This is a multiple line comment/string\n",
        "    This is another line\n",
        "    This is the final line '''\n",
        "print(big_string)"
      ],
      "execution_count": 10,
      "outputs": [
        {
          "output_type": "stream",
          "name": "stdout",
          "text": [
            " This is a multiple line comment/string\n",
            "    This is another line\n",
            "    This is the final line \n"
          ]
        }
      ]
    },
    {
      "cell_type": "markdown",
      "metadata": {
        "id": "iIBzo5u7aSWy"
      },
      "source": [
        "Variables can contain more complex data values, for example lists, tuples or dicts.\n",
        "\n",
        "We can access individual elements of a list or tuple by using a position index.  In Python we use zero-based index.  That is the 'first' element is index '0'."
      ]
    },
    {
      "cell_type": "code",
      "metadata": {
        "id": "6_0y7dyObYne"
      },
      "source": [
        "rainfall = [0,0,2,2.3, 5.7, 6.9, 5.5, 2.3, 1,0,0,0]\n",
        "\n",
        "# Print the first element\n",
        "print(rainfall[0])\n",
        "\n",
        "# Print the third element\n",
        "print(rainfall[2])"
      ],
      "execution_count": null,
      "outputs": []
    },
    {
      "cell_type": "markdown",
      "metadata": {
        "id": "7VnH0Nwwb4VZ"
      },
      "source": [
        "We can use the contents of a variable as the index"
      ]
    },
    {
      "cell_type": "code",
      "metadata": {
        "id": "d5Ehvrbkb-jx"
      },
      "source": [
        "month = 11\n",
        "print(rainfall[month])"
      ],
      "execution_count": null,
      "outputs": []
    },
    {
      "cell_type": "markdown",
      "metadata": {
        "id": "VRtey1GocPXo"
      },
      "source": [
        "To access a element of a dict we use the key."
      ]
    },
    {
      "cell_type": "code",
      "metadata": {
        "id": "rOKqCQYXcQcA"
      },
      "source": [
        "rainfall = {'Jan': 0,\n",
        "            'Feb': 0,\n",
        "            'Mar': 2,\n",
        "            'Apr': 2.3,\n",
        "            'May': 5.7,\n",
        "            'Jun': 6.9,\n",
        "            'Jul':5.5, \n",
        "            'Aug':2.3, \n",
        "            'Sep':1,\n",
        "            'Oct': 0,\n",
        "            'Nov':0,\n",
        "            'Dec': 0}\n",
        "print(rainfall['Mar'])"
      ],
      "execution_count": null,
      "outputs": []
    },
    {
      "cell_type": "markdown",
      "metadata": {
        "id": "COgRuYZTFmd0"
      },
      "source": [
        "# Syntax\n",
        "\n",
        "* Python has no mandatory statement termination characters\n",
        "* Whitespace is significant\n",
        "* Whitespace is 'space', 'tab', 'return' characters\n",
        "* Blocks are specified by indentation. \n",
        "* Indent to begin a block, dedent to end one\n",
        "* Statements that expect an indentation level end in a colon (:)\n",
        "* Comments start with the pound (#) sign and are single-line\n",
        "* Multi-line strings are used for multi-line comments.\n",
        "* Multi-line strings begin three quotees *'''*\n",
        "* Multi-line strings end with three quotes *'''* \n",
        "* Python qwerk, use multiple line strings as multiple line comments\n",
        "\n",
        "\n",
        "## Comments"
      ]
    },
    {
      "cell_type": "code",
      "metadata": {
        "id": "CIkb74vgGaW6",
        "outputId": "e53451b4-b812-48e5-b5f7-59ad43b50a2d",
        "colab": {
          "base_uri": "https://localhost:8080/"
        }
      },
      "source": [
        "# This is a single line comment\n",
        "# Writing multiple single line\n",
        "# comments is the 'true' way\n",
        "# to do multi-line comments\n",
        "\n",
        "# Anything after the '#' character is ignored\n",
        "# So comments can occur after the python statement\n",
        "age = 5 # The persons age\n",
        "\n",
        "''' This is a multiple line string\n",
        "    but because it not assigned to a variable\n",
        "    Python will ignore unassigned strings\n",
        "    so we can treat this as a multiple line comment'''\n",
        "\n",
        "big_string = ''' This is a multiple line string\n",
        "    and because it is assigned we can perform\n",
        "    an operation on the variable'''\n",
        "\n",
        "print(big_string)"
      ],
      "execution_count": 11,
      "outputs": [
        {
          "output_type": "stream",
          "name": "stdout",
          "text": [
            " This is a multiple line string\n",
            "    and because it is assigned we can perform\n",
            "    an operation on the variable\n"
          ]
        }
      ]
    },
    {
      "cell_type": "markdown",
      "metadata": {
        "id": "wmhkJr_fH9dY"
      },
      "source": [
        "## Strings\n",
        "\n",
        "Strings can use single or double quotation marks.  Multiline strings are enclosed in _triple double (or single) quotes_ (“”“).\n",
        "\n",
        "You can build up, concatenate strings using the '+' operator.\n",
        "\n",
        "Let us pretend we need to print the phrase 'hello world' by creating the phrase one word at a time."
      ]
    },
    {
      "cell_type": "code",
      "metadata": {
        "id": "nWt_nG2aG3j-"
      },
      "source": [
        "first_word = \"hello\"\n",
        "second_word = \"world\"\n",
        "phrase = first_word + second_word\n",
        "print(phrase)"
      ],
      "execution_count": null,
      "outputs": []
    },
    {
      "cell_type": "code",
      "metadata": {
        "id": "AhWKr7_rHMdS"
      },
      "source": [
        "# How can we add a space?\n",
        "\n",
        "first_word = \"hello\"\n",
        "second_word = \"world\"\n",
        "phrase = first_word + \" \" + second_word # Add a sapce when we create the 'phrase'\n",
        "print(phrase)\n"
      ],
      "execution_count": null,
      "outputs": []
    },
    {
      "cell_type": "code",
      "metadata": {
        "id": "U6Rn635AHgGO"
      },
      "source": [
        "# Another way to add a space?\n",
        "\n",
        "first_word = \"hello \"   # add a space after the first word\n",
        "second_word = \"world\"\n",
        "phrase = first_word + second_word\n",
        "print(phrase)"
      ],
      "execution_count": null,
      "outputs": []
    },
    {
      "cell_type": "code",
      "metadata": {
        "id": "CK-OWdL-HskM"
      },
      "source": [
        "# And... Another wat to add a space\n",
        "\n",
        "first_word = \"hello\"\n",
        "second_word = \" world\"  # add a space to the begining of the word\n",
        "phrase = first_word + second_word\n",
        "print(phrase)"
      ],
      "execution_count": null,
      "outputs": []
    },
    {
      "cell_type": "markdown",
      "metadata": {
        "id": "pPAGtLWFaMN6"
      },
      "source": [
        "The important part is not how to add a space, but to **recognise that a space was needed.**\n",
        "\n",
        "String are a sequence of characters.  So they have a length, but can also be treated like a list, and we can print individual characters."
      ]
    },
    {
      "cell_type": "code",
      "metadata": {
        "id": "2d0xKqk5aAuc"
      },
      "source": [
        "first_word = \"hello\"\n",
        "second_word = \"world\"\n",
        "phrase = first_word + \" \" + second_word\n",
        "\n",
        "# print the length of the phrase\n",
        "print(len(phrase))\n",
        "\n",
        "# print the seventh character\n",
        "print(phrase[6])"
      ],
      "execution_count": null,
      "outputs": []
    },
    {
      "cell_type": "markdown",
      "metadata": {
        "id": "_9zuvlvWggxY"
      },
      "source": [
        "We can do more the print a single character, we can slice up the string, and get a substring.\n",
        "\n",
        "We use the pattern\n",
        "\n",
        "    the_string[begin : one_greater_than_end]\n",
        "\n",
        "If we leave out 'begin' then it starts from the begining.\n",
        "\n",
        "If we leave out 'one_greater_than_end' then it goes to the end\n"
      ]
    },
    {
      "cell_type": "code",
      "metadata": {
        "id": "HsP_hSdohNxL"
      },
      "source": [
        "the_string = 'This is a exmaple'\n",
        "print(the_string)\n",
        "\n",
        "# Now lets 'slice' the string, but leave out the slice-indexes\n",
        "print(the_string[:])"
      ],
      "execution_count": null,
      "outputs": []
    },
    {
      "cell_type": "markdown",
      "metadata": {
        "id": "brOzyx8Thhxy"
      },
      "source": [
        "Okay, that is a little strange.  Let us 'slice' out the word 'This'.\n",
        "\n",
        "So that starts at the begining, and we want up to and including the fourth character.  So we want positions from 0 to 3, but in slicing the 'end' has to be one greater, we want indexes 0 to 4"
      ]
    },
    {
      "cell_type": "code",
      "metadata": {
        "id": "El_2ka8FiCrK"
      },
      "source": [
        "the_string = 'This is a exmaple'\n",
        "print(the_string)\n",
        "\n",
        "# Print the first word\n",
        "first_word = the_string[0:4]\n",
        "print(first_word)"
      ],
      "execution_count": null,
      "outputs": []
    },
    {
      "cell_type": "markdown",
      "metadata": {
        "id": "-5xdVO01iTEc"
      },
      "source": [
        "Now if the indexes are positive we count fomr the begining of the string to find the position.  If the numbers are negative then we count backwards from the end of the string to find the position.\n",
        "\n",
        "Lets get the first word, counting form the end of the string"
      ]
    },
    {
      "cell_type": "code",
      "metadata": {
        "id": "fJTITW5Wivnn"
      },
      "source": [
        "the_string = 'This is a exmaple'\n",
        "print(the_string)\n",
        "\n",
        "# print length of string\n",
        "print(len(the_string))\n",
        "\n",
        "# Print the first word\n",
        "first_word = the_string[-17:-13]\n",
        "print(first_word)"
      ],
      "execution_count": null,
      "outputs": []
    },
    {
      "cell_type": "markdown",
      "metadata": {
        "id": "DiXkxwD-jNgh"
      },
      "source": [
        "We can also slice lists and tuples"
      ]
    },
    {
      "cell_type": "code",
      "metadata": {
        "id": "6TCkqiGCjJnH"
      },
      "source": [
        "numbers = [1,2,3,4,5,6,7]\n",
        "\n",
        "# print the first four elements of the list\n",
        "print(numbers[0:4])"
      ],
      "execution_count": null,
      "outputs": []
    },
    {
      "cell_type": "markdown",
      "metadata": {
        "id": "ula3gARLjgtn"
      },
      "source": [
        "We can do fancy thing like, slice a range, and then slect only every second element.  The **real** pattern is:\n",
        "\n",
        "    the_list[start : end : step]"
      ]
    },
    {
      "cell_type": "code",
      "metadata": {
        "id": "yc2f5hookBhB"
      },
      "source": [
        "numbers = [1,2,3,4,5,6,7]\n",
        "\n",
        "# print the first four elements of the list\n",
        "print(numbers[0:4:2])\n",
        "\n",
        "# print every third element in the list\n",
        "print(numbers[::3])"
      ],
      "execution_count": null,
      "outputs": []
    },
    {
      "cell_type": "markdown",
      "metadata": {
        "id": "Q7n-WnTaKgLo"
      },
      "source": [
        "# Making decisions\n",
        "\n",
        "Python supports logical conditions.  A logical condition is where we consider the relationship between two things.  Is one thing less than the other.  The 'result' of a logical condition is either True or False.\n",
        "\n",
        "* Equals: a == b\n",
        "* Not Equals: a != b\n",
        "* Less than: a < b\n",
        "* Less than or equal to: a <= b\n",
        "* Greater than: a > b\n",
        "* Greater than or equal to: a >= b\n",
        "\n",
        "These conditions can be used in several ways, most commonly in \"if statements\" and loops.\n",
        "\n",
        "An \"if statement\" is written by using the if keyword.\n",
        "\n",
        "    if *logical condition* then\n",
        "      do something\n",
        "\n",
        "And if we want to do something false then we \n",
        "\n",
        "    if NOT *logical condition* then\n",
        "      do something \n",
        "\n",
        "And if we want to do someting is it either true or false then we:\n",
        "\n",
        "    if *logical condition* then\n",
        "      do something\n",
        "    else\n",
        "      do something else (this is the 'false' branch)\n",
        "\n",
        "And we can can have lots of 'logical conditions'\n",
        "\n",
        "    if *logical condition* then\n",
        "      do something\n",
        "    elif *another logical condition* then\n",
        "      do something\n",
        "    elif *and another logical condition * then\n",
        "      do something\n",
        "    elif *and one more logical condition* then\n",
        "      do something\n",
        "    else\n",
        "      do something else (this is the 'false' branch)\n",
        "\n",
        "Whoa, which one do I use?  Why so many different ways? If you follow the first few steps of our development methodology, that is, understand the problem, then when you write an algorithm and make a decision, you can express the decision as per your understanding."
      ]
    },
    {
      "cell_type": "code",
      "metadata": {
        "id": "SJ5yco_SkS0T"
      },
      "source": [
        "score = 76.5\n",
        "\n",
        "if score > 50:\n",
        "  print('pass')"
      ],
      "execution_count": null,
      "outputs": []
    },
    {
      "cell_type": "code",
      "metadata": {
        "id": "1Tay_6vhlaJQ"
      },
      "source": [
        "score = 76.5\n",
        "\n",
        "if score > 50:\n",
        "  print('pass')\n",
        "else:\n",
        "  print('fail')"
      ],
      "execution_count": null,
      "outputs": []
    },
    {
      "cell_type": "code",
      "metadata": {
        "id": "EljgMYV9ll1M"
      },
      "source": [
        "score = 76.5\n",
        "\n",
        "if score > 50:\n",
        "  print('pass')\n",
        "if score > 65:\n",
        "  print('credit')\n",
        "if score > 75:\n",
        "  print('distinction')\n",
        "if score > 85:\n",
        "  print('high distinction')\n",
        "else:\n",
        "  print('fail')"
      ],
      "execution_count": null,
      "outputs": []
    },
    {
      "cell_type": "markdown",
      "metadata": {
        "id": "PlP2qDLrl8Y7"
      },
      "source": [
        "Ummm.... what went wrong...  \n",
        "\n",
        "Well, each 'if' statement is executed, it doesn't mater if one of the earlier statements was true.  That is, each statement is 'independent'.\n",
        "\n",
        "If we use a 'elif', then once one logical condition is true the other are ignored."
      ]
    },
    {
      "cell_type": "code",
      "metadata": {
        "id": "UaAv1J1Ll7L5"
      },
      "source": [
        "score = 76.5\n",
        "\n",
        "if score > 50:\n",
        "  print('pass')\n",
        "elif score > 65:\n",
        "  print('credit')\n",
        "elif score > 75:\n",
        "  print('distinction')\n",
        "elif score > 85:\n",
        "  print('high distinction')\n",
        "else:\n",
        "  print('fail')"
      ],
      "execution_count": null,
      "outputs": []
    },
    {
      "cell_type": "markdown",
      "metadata": {
        "id": "AFUrYam2mJLL"
      },
      "source": [
        "Argh.... stilll not correct!\n",
        "\n",
        "We have a logical error. The score was greater than 50, and once one codition is true the other are ignored.  So how do we fix the problem.  We need to write a different logical-conditions, here we flip the 'greater-than' to a 'less-than'\n",
        "\n",
        "    if score < 50:\n",
        "       print('fail')\n",
        "    elif score < 65:\n",
        "       print('pass')\n",
        "    etc.....\n",
        "\n",
        "We could specifiy a range in the logical condition\n",
        "\n",
        "    if 50 < score < 65:\n",
        "       print('pass')\n",
        "    elif 65 < score < 75:\n",
        "       print('credit')\n",
        "    etc.....\n",
        "\n",
        "We could reorder the original so we test from 'high distinction' down to 'pass'\n",
        "\n",
        "    if score > 85:\n",
        "       print('high distinction')\n",
        "    elif score > 75:\n",
        "       print('credit')\n",
        "    etc.....\n",
        "\n",
        "This works because when using 'elif' once one logical condition is true the other are ignored.\n",
        "\n",
        "Is one better than the other, well no.  So use the one you prefer or more closley matches your understanding of the problem."
      ]
    },
    {
      "cell_type": "code",
      "metadata": {
        "id": "2Pw5sMf1pWVG"
      },
      "source": [
        "score = 76.5\n",
        "\n",
        "if 50 < score < 65:\n",
        "  print('pass')\n",
        "elif 65 < score < 75:\n",
        "  print('credit')\n",
        "elif 75 < score < 85:\n",
        "  print('distinction')\n",
        "elif 85 < score < 100:\n",
        "  print('high distinction')\n",
        "else:\n",
        "  print('fail')"
      ],
      "execution_count": null,
      "outputs": []
    },
    {
      "cell_type": "markdown",
      "metadata": {
        "id": "suu6Nlazpz4P"
      },
      "source": [
        "This is still not 'perfect'.  What happens is score is '75'?  Is that a credit or distinciton?  Try the above cell with a value of 75 and see what happens.  How would you fix this?\n",
        "\n",
        "# Repeting Actions\n",
        "\n",
        "We often need to repeat a series of actions, often procesing items ina list, for example calculating the total of a list of values, or finding the average of a list numbers."
      ]
    },
    {
      "cell_type": "code",
      "metadata": {
        "id": "reJy3ZWnrqtH"
      },
      "source": [
        "# lets use range() function to genrate a list\n",
        "range(0,10)"
      ],
      "execution_count": null,
      "outputs": []
    },
    {
      "cell_type": "markdown",
      "metadata": {
        "id": "5osZGFour5Al"
      },
      "source": [
        "Umm... that not a list. Lets make that a list\n"
      ]
    },
    {
      "cell_type": "code",
      "metadata": {
        "id": "9hnoEv8lr37t"
      },
      "source": [
        "list(range(0,10))"
      ],
      "execution_count": null,
      "outputs": []
    },
    {
      "cell_type": "markdown",
      "metadata": {
        "id": "8J27z11js08I"
      },
      "source": [
        "Lets save the list to use for later"
      ]
    },
    {
      "cell_type": "code",
      "metadata": {
        "id": "Daw5cx5Es4fs"
      },
      "source": [
        "numbers = list(range(0,10))"
      ],
      "execution_count": null,
      "outputs": []
    },
    {
      "cell_type": "markdown",
      "metadata": {
        "id": "ljFvuRVstSHG"
      },
      "source": [
        "Let us calculate the sum of the list.  the steps are as follows:\n",
        "\n",
        "    1. Create a variable to store the total\n",
        "    2. Initialise the variable to zero\n",
        "    3. for each element in the list\n",
        "      3.1. add the element to the total\n",
        "    4. print the total "
      ]
    },
    {
      "cell_type": "code",
      "metadata": {
        "id": "no1PQZ5Ls9uA"
      },
      "source": [
        "numbers = list(range(0,10))\n",
        "\n",
        "# 1. Create a variable to store the total\n",
        "# 2. Initialise the variable to zero\n",
        "total = 0\n",
        "\n",
        "# 3. for each element in the list\n",
        "#    3.1 add the element to the total\n",
        "for element in numbers:\n",
        "  total = total + element\n",
        "\n",
        "# 4. print the total \n",
        "print(total)"
      ],
      "execution_count": null,
      "outputs": []
    },
    {
      "cell_type": "markdown",
      "metadata": {
        "id": "8h8rO5_Zuhcf"
      },
      "source": [
        "Notice that we worked out an algorithm, and then we used the algorith as comments.  Probably a bit much for this simple example, but hopefully you get the idea.\n",
        "\n",
        "Now calculating the total of alist is pretty common, so Python has a *sum()* function to do that for us."
      ]
    },
    {
      "cell_type": "code",
      "metadata": {
        "id": "T18Nc4kOvBuO"
      },
      "source": [
        "numbers = list(range(0,10))\n",
        "print(sum(numbers))"
      ],
      "execution_count": null,
      "outputs": []
    },
    {
      "cell_type": "markdown",
      "metadata": {
        "id": "dvIVLyuYvKXo"
      },
      "source": [
        "Which should you use?  As a general rule in Python, if a function exists, then typically, this means someone has tested and debugged the code, so my advice is to use the function.\n",
        "\n",
        "How do you find out if the function exists?   Search on the internet!\n",
        "\n",
        "If you can't find anything, then you will have to write your own.\n",
        "\n",
        "\n",
        "# Functions\n",
        "\n",
        "We been using functions though out, print(), len(), type().  Functions are identified by the use of 'name()'.  Most functions take input (called arguments), for exmaple:\n",
        "\n",
        "    print(\"Hello World\")\n",
        "\n",
        "Here \"Hello World\" is the argument.\n",
        "\n",
        "We can declare functions.  Declaring or defining functions is a way to encapsulate a set of actions into a single statement call.  \n",
        "\n",
        "Following our development methodology, as you understand the problem and work through a few examples, your initial algorithm is often a set of high-level steps.   That is, you break the problem down into a set of more minor problems.   Typically you would work on one step at a time.  These 'steps' often become functions.\n",
        "\n",
        "Another common reason to create a function is that save you are repeating a sequence of code.  Rather than duplicate the code in many places in the program, create a function.  Then call the function where required in the program.\n",
        "\n",
        "Defining your function is 'extending' the language. You can use terminology from the original problem as the name of a Python function, which makes it easier to understand the code.\n",
        "\n",
        "Functions are declared with the def keyword. \n",
        "\n",
        "Optional arguments are set in the function declaration after the mandatory arguments by being assigned a default value. \n",
        "\n",
        "For named arguments, the name of the argument is assigned a value. \n",
        "\n",
        "Functions can return thing(s).  Typically a single value/thing/object, but they can return multiple values in a tuple.  You use tuple unpacking to access each value.\n",
        "\n",
        "Python doesn't have a function to calculate the average of a list. To calculate the average of a list, we need the sum of the values in the list, and then divide by the number of elements in the list.   Python has a sum() function, and we already used the len() function.  So let us define a  function to calculate the average.\n"
      ]
    },
    {
      "cell_type": "code",
      "metadata": {
        "id": "LLNXraYg2b9Z"
      },
      "source": [
        "def average(numbers):\n",
        "  average = sum(numbers)/len(numbers)\n",
        "  return average"
      ],
      "execution_count": null,
      "outputs": []
    },
    {
      "cell_type": "markdown",
      "metadata": {
        "id": "59JqKjIB2qDq"
      },
      "source": [
        "Lets use the new function."
      ]
    },
    {
      "cell_type": "code",
      "metadata": {
        "id": "0Soxk3kP2o74"
      },
      "source": [
        "# create a list\n",
        "nums = list(range(0,10))\n",
        "\n",
        "# store the reslt form the function call\n",
        "result = average(nums)\n",
        "\n",
        "# print the result\n",
        "print(result)"
      ],
      "execution_count": null,
      "outputs": []
    },
    {
      "cell_type": "markdown",
      "metadata": {
        "id": "IRvkdKTb3QT_"
      },
      "source": [
        "# Exceptions\n",
        "\n",
        "Programs can crash.  Program typically crash when something exceptional happens, perhaps out of memory, or out if disk space, or invalid input.  In Python we get a error message called a traceback, see the following example\n",
        "\n",
        "    ---------------------------------------------------------------------------\n",
        "    TypeError                                 Traceback (most recent call last)\n",
        "    <ipython-input-109-6def03b54820> in <module>()\n",
        "          1 words = ['One', 'Two', 'Three']\n",
        "    ----> 2 average(words)\n",
        "\n",
        "    <ipython-input-105-20f44f94ad68> in average(numbers)\n",
        "          1 def average(numbers):\n",
        "    ----> 2   average = sum(numbers)/len(numbers)\n",
        "          3   return average\n",
        "\n",
        "    TypeError: unsupported operand type(s) for +: 'int' and 'str'\n",
        "\n",
        "The traceback is designed to help the programmer and not meant for the user of your program.  We should test our program and prevent any traceback from being displayed to the user.\n",
        "\n",
        "In the above exmaple, this exepction is type error:\n",
        "\n",
        "    TypeError: unsupported operand type(s) for +: 'int' and 'str'\n",
        "\n",
        "To handle exceptions in Python, firt we 'try' the code, and if a exception occurs we write a block of code tha 'handle' the code.  This is known as a try-except blocks.\n",
        "\n",
        "Let us consider out *average()* function we defined above. \n",
        "\n",
        "What happens is we have a list with no numbers ['One', 'Two', 'Three']?\n"
      ]
    },
    {
      "cell_type": "code",
      "metadata": {
        "id": "Cij-jzuQ3tBE"
      },
      "source": [
        "words = ['One', 'Two', 'Three']\n",
        "average(words)"
      ],
      "execution_count": null,
      "outputs": []
    },
    {
      "cell_type": "markdown",
      "metadata": {
        "id": "L3k53no25Zfp"
      },
      "source": [
        "We need to rewrite the average() function to handle the excpetion \"TypeError\""
      ]
    },
    {
      "cell_type": "code",
      "metadata": {
        "id": "DorOLgCM5vLE"
      },
      "source": [
        "def average(numbers):\n",
        "  try:\n",
        "    average = sum(numbers)/len(numbers)\n",
        "    return average\n",
        "  except TypeError:\n",
        "    print(\"Please check that your list contains only numerical values\")\n",
        "    return 0    "
      ],
      "execution_count": null,
      "outputs": []
    },
    {
      "cell_type": "markdown",
      "metadata": {
        "id": "zNzJpq4G6hgB"
      },
      "source": [
        "Test the fix"
      ]
    },
    {
      "cell_type": "code",
      "metadata": {
        "id": "EXqP4TkA6gA5"
      },
      "source": [
        "words = ['One', 'Two', 'Three']\n",
        "average(words)"
      ],
      "execution_count": null,
      "outputs": []
    },
    {
      "cell_type": "markdown",
      "metadata": {
        "id": "Q1BTH0b071DS"
      },
      "source": [
        "What about an empyt list?"
      ]
    },
    {
      "cell_type": "code",
      "metadata": {
        "id": "8P2bIEmg71a3"
      },
      "source": [
        "empty_list = []\n",
        "average(empty_list)"
      ],
      "execution_count": null,
      "outputs": []
    },
    {
      "cell_type": "markdown",
      "metadata": {
        "id": "f04VAqAP654t"
      },
      "source": [
        "Umm... still need more work. Need to handle the ZeroDivisionError exception"
      ]
    },
    {
      "cell_type": "code",
      "metadata": {
        "id": "XNjNp0_16-DD"
      },
      "source": [
        "def average(numbers):\n",
        "  try:\n",
        "    average = sum(numbers)/len(numbers)\n",
        "    return average\n",
        "  except TypeError:\n",
        "    print(\"Please check that your list contains only numerical values\")\n",
        "    return 0\n",
        "  except ZeroDivisionError:  \n",
        "    print(\"Please make sure that your list is not empty\")\n",
        "    return 0"
      ],
      "execution_count": null,
      "outputs": []
    },
    {
      "cell_type": "markdown",
      "metadata": {
        "id": "6t85IGFd7S2m"
      },
      "source": [
        "Let us test the fix"
      ]
    },
    {
      "cell_type": "code",
      "metadata": {
        "id": "PnFrmOD07PXZ"
      },
      "source": [
        "empty_list = []\n",
        "average(empty_list)"
      ],
      "execution_count": null,
      "outputs": []
    },
    {
      "cell_type": "markdown",
      "metadata": {
        "id": "ETHMnpMh7V8W"
      },
      "source": [
        "What about a list of real numbers?"
      ]
    },
    {
      "cell_type": "code",
      "metadata": {
        "id": "ztwI9xV27Yqa"
      },
      "source": [
        "reals = [1.1,1.1,1.1,1.1]\n",
        "print(average(reals))"
      ],
      "execution_count": null,
      "outputs": []
    },
    {
      "cell_type": "markdown",
      "metadata": {
        "id": "ISWSu_268Kb8"
      },
      "source": [
        "# Importing \n",
        "\n",
        "Pytohn has a great community support.  Many programming problems have bene solves, from image processing, reading and writing to files, creating plots etc.  When someone or a group write something useful they will bundle the functions up into a package for other to use.\n",
        "\n",
        "To use some packages you have to install them first.  Once a package has been installed you can import the package into your program and use the functions.\n",
        "\n",
        "\n"
      ]
    },
    {
      "cell_type": "code",
      "metadata": {
        "id": "jsQVCvoY-f5o"
      },
      "source": [
        "import random\n",
        "\n",
        "randomint = random.randint(1,100)\n",
        "print(randomint)"
      ],
      "execution_count": null,
      "outputs": []
    },
    {
      "cell_type": "markdown",
      "metadata": {
        "id": "8RTjq0Vv_H-e"
      },
      "source": [
        "You can import a specific function form a package using the 'from' keyword"
      ]
    },
    {
      "cell_type": "code",
      "metadata": {
        "id": "vyLGxnNL_Niy"
      },
      "source": [
        "from random import randint\n",
        "\n",
        "randomint = randint(20,25)\n",
        "print(randomint)"
      ],
      "execution_count": null,
      "outputs": []
    },
    {
      "cell_type": "markdown",
      "metadata": {
        "id": "GbIMVktCAPET"
      },
      "source": [
        "# Input/Output\n",
        "\n",
        "Programs are:\n",
        "\n",
        "    Intput --> Processing --> Outout\n",
        "\n",
        "We already seen some simple output with the print() function. For simple input, we can use the input() function. "
      ]
    },
    {
      "cell_type": "code",
      "metadata": {
        "id": "BHkhh-t9An54"
      },
      "source": [
        "input(\"What is your name? \")"
      ],
      "execution_count": null,
      "outputs": []
    },
    {
      "cell_type": "markdown",
      "metadata": {
        "id": "yMlft8eABGgH"
      },
      "source": [
        "We typically want to process the input, so we should store the input into a variable"
      ]
    },
    {
      "cell_type": "code",
      "metadata": {
        "id": "Z3kLqbrjBVK4"
      },
      "source": [
        "# store the input into a variable called name\n",
        "name = input(\"What is your name? \")\n",
        "\n",
        "# simulate the processing step by using the input\n",
        "phrase = 'Your name is ' + name\n",
        "\n",
        "# Out put the result of our processing\n",
        "print(phrase)"
      ],
      "execution_count": null,
      "outputs": []
    },
    {
      "cell_type": "markdown",
      "metadata": {
        "id": "VeTpOT_0Bkds"
      },
      "source": [
        "## File I/O\n",
        "\n",
        "For more persistance of data we can store our data in a file, and we can read data form a file.  The typicall pattern is, open the file, read/write from/to the file, and then close the file.\n",
        "\n",
        "Whe we openthe file, we can specifiy if it is for reading, writing, or appending. When writing or appending, if the file doesn't exits it will create a empty file."
      ]
    },
    {
      "cell_type": "code",
      "metadata": {
        "id": "oZH8WtBtCAv1"
      },
      "source": [
        "my_file = open(\"mytext.txt\", \"w\")\n",
        "my_file.write(\"This is the first line\\n\") # notice the '\\n', this is the new line character\n",
        "my_file.write(\"This is a second line\\n\")\n",
        "my_file.close()\n"
      ],
      "execution_count": null,
      "outputs": []
    },
    {
      "cell_type": "markdown",
      "metadata": {
        "id": "l1EpH_d3Dqlu"
      },
      "source": [
        "If you open the file 'mytext.txt' in a text editor it contents will be:\n",
        "\n",
        "    This is the first line\n",
        "    This is the second line\n",
        "\n",
        "We can check this in Python, by opening the file for reading and printing each line in the file.\n",
        "\n",
        "The common function to read from text files are:\n",
        "* read() - read the entire file\n",
        "* readline() - read one line of a file\n",
        "* readlines() - read entire files, return as a list of lines "
      ]
    },
    {
      "cell_type": "code",
      "metadata": {
        "id": "K6-U8c_MECxW"
      },
      "source": [
        "my_file = open(\"mytext.txt\", \"r\")\n",
        "print(my_file.read())\n",
        "my_file.close()"
      ],
      "execution_count": null,
      "outputs": []
    },
    {
      "cell_type": "code",
      "metadata": {
        "id": "rhZRk2bcFpQM"
      },
      "source": [
        "my_file = open(\"mytext.txt\", \"r\")\n",
        "print(my_file.readlines())\n",
        "my_file.close()"
      ],
      "execution_count": null,
      "outputs": []
    },
    {
      "cell_type": "code",
      "metadata": {
        "id": "MXXXMLhJGCE4"
      },
      "source": [
        "my_file = open(\"mytext.txt\", \"r\")\n",
        "print(my_file.readline())\n",
        "my_file.close()"
      ],
      "execution_count": null,
      "outputs": []
    },
    {
      "cell_type": "markdown",
      "metadata": {
        "id": "0lLc9kH8Icn-"
      },
      "source": [
        "To print each line, we can iterate over the list of lines"
      ]
    },
    {
      "cell_type": "code",
      "metadata": {
        "id": "zPjtZoKZIjTm"
      },
      "source": [
        "my_file = open(\"mytext.txt\", \"r\")\n",
        "for line in my_file.readlines():\n",
        "  print(line)\n",
        "my_file.close()"
      ],
      "execution_count": null,
      "outputs": []
    },
    {
      "cell_type": "markdown",
      "metadata": {
        "id": "fnLmV0QZGzAQ"
      },
      "source": [
        "Closing the file is inductry best practice, but can be easy to forget.  The pythonic' way is to use the *with* statement"
      ]
    },
    {
      "cell_type": "code",
      "metadata": {
        "id": "HuMPQGJkGvov"
      },
      "source": [
        "with open(\"mytext.txt\") as my_file:\n",
        "  print(my_file.read())"
      ],
      "execution_count": null,
      "outputs": []
    },
    {
      "cell_type": "markdown",
      "metadata": {
        "id": "M2JCoR6IIJLZ"
      },
      "source": [
        "We can iterate of the file variable."
      ]
    },
    {
      "cell_type": "code",
      "metadata": {
        "id": "iYz8N_W9H3HT"
      },
      "source": [
        "with open(\"mytext.txt\") as my_file:\n",
        "  for line in my_file:\n",
        "    print(line)"
      ],
      "execution_count": null,
      "outputs": []
    },
    {
      "cell_type": "markdown",
      "metadata": {
        "id": "fvo_M_YREVlF"
      },
      "source": [
        "Oaky, I can write strings, what about other things?"
      ]
    },
    {
      "cell_type": "code",
      "metadata": {
        "id": "j45mQoc_BsaP"
      },
      "source": [
        "my_list = [\"This\", \"is\", 4, 13327]\n",
        "\n",
        "my_file = open(\"mylist.txt\", \"w\")\n",
        "my_file.write(my_list)\n",
        "my_file.close()\n"
      ],
      "execution_count": null,
      "outputs": []
    },
    {
      "cell_type": "markdown",
      "metadata": {
        "id": "MVcT5uo3I7cH"
      },
      "source": [
        "There is a library called pickle, that alows us to write/read objects to/from files."
      ]
    },
    {
      "cell_type": "code",
      "metadata": {
        "id": "0ZYagyJ_JD54"
      },
      "source": [
        "import pickle\n",
        "\n",
        "my_list = [\"This\", \"is\", 4, 13327]\n",
        "\n",
        "# open the file to write bytes\n",
        "my_file = open(\"binary.dat\", \"wb\")\n",
        "\n",
        "# use pickle to write the object to the file\n",
        "pickle.dump(my_list, my_file)\n",
        "\n",
        "# close the file\n",
        "my_file.close()\n"
      ],
      "execution_count": null,
      "outputs": []
    },
    {
      "cell_type": "markdown",
      "metadata": {
        "id": "o7ReePEIJhXV"
      },
      "source": [
        "We can't open 'binary.dat' in a text editor and make sense of it.\n",
        "\n",
        "Let us use pickle to read back the list. Lets also use the with statement"
      ]
    },
    {
      "cell_type": "code",
      "metadata": {
        "id": "8sjkfrpOJzjW"
      },
      "source": [
        "with open(\"binary.dat\",\"rb\") as my_file:\n",
        "  the_list = pickle.load(my_file)\n",
        "\n",
        "print(the_list)"
      ],
      "execution_count": null,
      "outputs": []
    },
    {
      "cell_type": "markdown",
      "metadata": {
        "id": "iclrZFV1KziC"
      },
      "source": [
        "## Other Data Sources/Sinks\n",
        "\n",
        "* CSV files\n",
        "* SQL Databases\n",
        "* Excell Spreadsheets\n",
        "* Word Documents\n",
        "* PDF files\n",
        "* Webpages\n",
        "* Videos\n",
        "* Audio\n",
        "\n",
        "The pattern is almost all the same, open the file/database/webpage/stream, extract the data (usually into a pandas dataframe), process the data, the save the result to a file/database/webapge/stream.\n",
        "\n",
        "Let us get a CSV form a URL and stor into a pandas dataframe"
      ]
    },
    {
      "cell_type": "code",
      "metadata": {
        "id": "are8WRKBL0jJ"
      },
      "source": [
        "import pandas as pd\n",
        "\n",
        "url = \"http://winterolympicsmedals.com/medals.csv\"\n",
        "df = pd.read_csv(url)\n",
        "\n",
        "print(df.head())"
      ],
      "execution_count": null,
      "outputs": []
    },
    {
      "cell_type": "markdown",
      "metadata": {
        "id": "HVW1OkO5NU47"
      },
      "source": [
        "Lets save the dataframe as a CSV file\n"
      ]
    },
    {
      "cell_type": "code",
      "metadata": {
        "id": "2dSLYtYRNfUJ"
      },
      "source": [
        "import pandas as pd\n",
        "url = \"http://winterolympicsmedals.com/medals.csv\"\n",
        "df = pd.read_csv(url)\n",
        "\n",
        "# Simulate processing the data, lets extract the first 5 rows\n",
        "small_df = df.head()\n",
        "\n",
        "# output results\n",
        "small_df.to_csv(\"medals.csv\")"
      ],
      "execution_count": null,
      "outputs": []
    },
    {
      "cell_type": "markdown",
      "metadata": {
        "id": "j4aIxP6HOSHH"
      },
      "source": [
        "A CSV file is a text file, lets use our code above to inspect the meadles.csv file"
      ]
    },
    {
      "cell_type": "code",
      "metadata": {
        "id": "4DV1HQiOOcBJ"
      },
      "source": [
        "with open(\"medals.csv\", \"r\") as my_file:\n",
        "  print(my_file.read())"
      ],
      "execution_count": null,
      "outputs": []
    },
    {
      "cell_type": "markdown",
      "metadata": {
        "id": "chXJfWRkO4MZ"
      },
      "source": [
        "Lets save this as a SQL database\n"
      ]
    },
    {
      "cell_type": "code",
      "metadata": {
        "id": "jqJtPVuCPAM5"
      },
      "source": [
        "import pandas as pd\n",
        "import sqlite3\n",
        "\n",
        "# read in the data source\n",
        "df = pd.read_csv(\"http://winterolympicsmedals.com/medals.csv\")\n",
        "\n",
        "# process the data - extract the first 5 rows\n",
        "small_df = df.head()\n",
        "\n",
        "# save reults to a SQL database\n",
        "\n",
        "# connect to the database\n",
        "conn = sqlite3.connect('my_database.sqlite')\n",
        "\n",
        "# save dataframe as a table in the databse\n",
        "small_df.to_sql('medal_table', conn, if_exists='replace', index=False)"
      ],
      "execution_count": null,
      "outputs": []
    },
    {
      "cell_type": "markdown",
      "metadata": {
        "id": "X5dBLMHMQrf2"
      },
      "source": [
        "Lets check the SQLite database"
      ]
    },
    {
      "cell_type": "code",
      "metadata": {
        "id": "QmaVyxKbQqJk"
      },
      "source": [
        "import pandas as pd\n",
        "import sqlite3\n",
        "\n",
        "# connect to the database\n",
        "conn = sqlite3.connect('my_database.sqlite')\n",
        "query = \"SELECT * FROM medal_table\"\n",
        "df = pd.read_sql(query,conn)\n",
        "df"
      ],
      "execution_count": null,
      "outputs": []
    },
    {
      "cell_type": "markdown",
      "metadata": {
        "id": "K_EJ50IXs3vk"
      },
      "source": [
        "# Mannaging Code\n",
        "\n",
        "* Open a Jupyter Notebook\n",
        "* Rename a Jupyter Notebook\n",
        "* Write Python code in a Jupyter notebook code cells\n",
        "* Run Python code in a Jupyter notebook code cell\n",
        "* Write text in Jupyter notebook markdown cells\n",
        "* Use markdown syntax to produce formatted text, headings, lists\n",
        "* Save/Download a Jupyter notebook\n",
        "* Integerate notebooks with GitHub"
      ]
    },
    {
      "cell_type": "markdown",
      "metadata": {
        "id": "1Bqa4L0ss74k"
      },
      "source": [
        "# Packages for Using the Web\n",
        "\n",
        "### Scraping\n",
        "* Beautiful Soup\n",
        "* Requests\n",
        "* Selenium\n",
        "* URLib, URLlib2\n",
        "* Scrapy\n",
        "\n",
        "### Creating\n",
        "* Flask\n",
        "* Django\n",
        "* Bottle"
      ]
    },
    {
      "cell_type": "markdown",
      "metadata": {
        "id": "43DFOv3ys-v-"
      },
      "source": [
        "# Packages for SQL Databases\n",
        "\n",
        "* SQLite3\n",
        "* MySQL\n",
        "* PostgresSQL\n",
        "* SQLalchemy"
      ]
    },
    {
      "cell_type": "markdown",
      "metadata": {
        "id": "DJfZeZSMtAiM"
      },
      "source": [
        "# Packages for Visualisation\n",
        "\n",
        "The graphical depiction of information and data is known as data visualisation. Data visualisation tools make it easy to examine and comprehend trends, outliers, and patterns in data by employing visual elements like charts, graphs, and maps.\n",
        "\n",
        "* Matplotlib\n",
        "* Pandas\n",
        "* seaborn\n",
        "* ggplot\n",
        "* Plotly\n",
        "* Bokeh"
      ]
    },
    {
      "cell_type": "markdown",
      "metadata": {
        "id": "cXcmLe4xtCnr"
      },
      "source": [
        "# Packages for User Interfaces\n",
        "\n",
        "A graphical user interface, or GUI, is an interactive environment that collects user responses to various circumstances such as forms, documents, tests, etc. It delivers a more interactive screen to the user than a typical Command Line Interface (CLI).\n",
        "\n",
        "### In Notebooks\n",
        "* ipywdgets\n",
        "* Panel\n",
        "* Dash\n",
        "* Volia\n",
        "* Anvil\n",
        "\n",
        "\n",
        "### Local Scripts\n",
        "* PyQT5\n",
        "* Tkinter\n",
        "* Kivy\n",
        "* wxPytohn\n",
        "\n",
        "\n"
      ]
    },
    {
      "cell_type": "code",
      "metadata": {
        "id": "ihTq7ArXUMsl"
      },
      "source": [
        ""
      ],
      "execution_count": null,
      "outputs": []
    }
  ]
}